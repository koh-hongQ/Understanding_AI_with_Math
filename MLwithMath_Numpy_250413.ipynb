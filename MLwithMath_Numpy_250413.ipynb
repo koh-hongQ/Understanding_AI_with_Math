{
  "nbformat": 4,
  "nbformat_minor": 0,
  "metadata": {
    "colab": {
      "provenance": [],
      "authorship_tag": "ABX9TyMZ5IdFI6zJlgDUEMdFTeu5",
      "include_colab_link": true
    },
    "kernelspec": {
      "name": "python3",
      "display_name": "Python 3"
    },
    "language_info": {
      "name": "python"
    }
  },
  "cells": [
    {
      "cell_type": "markdown",
      "metadata": {
        "id": "view-in-github",
        "colab_type": "text"
      },
      "source": [
        "<a href=\"https://colab.research.google.com/github/koh-hongQ/Understanding_ML_with_Math/blob/main/MLwithMath_Numpy_250413.ipynb\" target=\"_parent\"><img src=\"https://colab.research.google.com/assets/colab-badge.svg\" alt=\"Open In Colab\"/></a>"
      ]
    },
    {
      "cell_type": "markdown",
      "source": [
        "# 수학으로 이해하는 기계학습\n",
        "\n",
        "\n",
        "*  Numpy\n",
        "*  수학과 고홍규\n",
        "\n"
      ],
      "metadata": {
        "id": "Hwi8sEk4AmO_"
      }
    },
    {
      "cell_type": "code",
      "execution_count": 44,
      "metadata": {
        "colab": {
          "base_uri": "https://localhost:8080/"
        },
        "id": "c04Y7hs8__3x",
        "outputId": "298cdf95-079b-420f-bfef-d01e44534cf4"
      },
      "outputs": [
        {
          "output_type": "stream",
          "name": "stdout",
          "text": [
            "Type/Class of this object: <class 'numpy.ndarray'>\n",
            "Here is the vector\n",
            "--------------------\n",
            " [1 2 3]\n"
          ]
        }
      ],
      "source": [
        "# 리스트를 numpy.array(리스트)로 변환\n",
        "my_list = [1,2,3]\n",
        "import numpy as np\n",
        "arr = np.array(my_list)\n",
        "print(\"Type/Class of this object:\",type(arr))\n",
        "print(\"Here is the vector\\n--------------------\\n\",arr)\n"
      ]
    },
    {
      "cell_type": "code",
      "source": [
        "# 리스트를 numpy.array(리스트)로 변환\n",
        "# 했을때 쓸수있는것 ndim, size, shape, dtype\n",
        "my_list = [1,2,3]\n",
        "import numpy as np\n",
        "arr = np.array(my_list)\n",
        "print(\"Type/Class of this object:\",type(arr))\n",
        "print(\"Here is the vector\\n--------------------\\n\",arr)\n",
        "my_mat = [[1,2,3],[4,5,6],[7,8,9]]\n",
        "mat = np.array(my_mat)\n",
        "print(\"Type/Class of this object:\",type(mat))\n",
        "print(\"Here is the matrix\\n----------\\n\",mat,\"\\n----------\")\n",
        "print(\"Dimension of this matrix: \",mat.ndim,sep='') #ndim gives the dimensison, 2 for a matrix, 1 for a vector\n",
        "print(\"Size of this matrix: \", mat.size,sep='') #size gives the total number of elements\n",
        "print(\"Shape of this matrix: \", mat.shape,sep='') #shape gives the number of elements along each axes (dimension)\n",
        "print(\"Data type of this matrix: \", mat.dtype,sep='') #dtype gives the data type contained in the array\n",
        "\n",
        "my_mat = [[1.1,2,3],[4,5.2,6],[7,8.3,9]]\n",
        "mat = np.array(my_mat)\n",
        "print(\"Data type of the modified matrix: \", mat.dtype,sep='') #dtype gives the data type contained in the array\n",
        "print(\"\\n\\nEven tuples can be converted to ndarrays...\")\n",
        "\n",
        "b = np.array([(1.5,2,3), (4,5,6)])\n",
        "print(\"We write b = np.array([(1.5,2,3), (4,5,6)])\")\n",
        "print(\"Matrix made from tuples, not lists\\n---------------------------------------\")\n",
        "print(b)"
      ],
      "metadata": {
        "colab": {
          "base_uri": "https://localhost:8080/"
        },
        "id": "dzzC10fcAkF1",
        "outputId": "dbe92ca4-404f-4bae-aee4-5db5eff71bdc"
      },
      "execution_count": 45,
      "outputs": [
        {
          "output_type": "stream",
          "name": "stdout",
          "text": [
            "Type/Class of this object: <class 'numpy.ndarray'>\n",
            "Here is the vector\n",
            "--------------------\n",
            " [1 2 3]\n",
            "Type/Class of this object: <class 'numpy.ndarray'>\n",
            "Here is the matrix\n",
            "----------\n",
            " [[1 2 3]\n",
            " [4 5 6]\n",
            " [7 8 9]] \n",
            "----------\n",
            "Dimension of this matrix: 2\n",
            "Size of this matrix: 9\n",
            "Shape of this matrix: (3, 3)\n",
            "Data type of this matrix: int64\n",
            "Data type of the modified matrix: float64\n",
            "\n",
            "\n",
            "Even tuples can be converted to ndarrays...\n",
            "We write b = np.array([(1.5,2,3), (4,5,6)])\n",
            "Matrix made from tuples, not lists\n",
            "---------------------------------------\n",
            "[[1.5 2.  3. ]\n",
            " [4.  5.  6. ]]\n"
          ]
        }
      ]
    },
    {
      "cell_type": "code",
      "source": [
        "# np.arange(5,16) : 5에서 15까지 리스트로 저장\n",
        "print(\"A series of numbers:\",np.arange(5,16)) # A series of numbers from low to high\n"
      ],
      "metadata": {
        "colab": {
          "base_uri": "https://localhost:8080/"
        },
        "id": "1S7SokhzBIPn",
        "outputId": "2086437f-242a-4937-ded7-ecb846286279"
      },
      "execution_count": 95,
      "outputs": [
        {
          "output_type": "stream",
          "name": "stdout",
          "text": [
            "A series of numbers: [ 5  6  7  8  9 10 11 12 13 14 15]\n"
          ]
        }
      ]
    },
    {
      "cell_type": "code",
      "source": [
        "# np.arange(0,11,2) : 0에서 2씩 증가해서 11전까지\n",
        "print(\"Numbers spaced apart by 2:\",np.arange(0,11,2)) # Numbers spaced apart by 2"
      ],
      "metadata": {
        "colab": {
          "base_uri": "https://localhost:8080/"
        },
        "id": "PUvxqha5BlAF",
        "outputId": "bee55450-acf5-4a78-9431-a23c6e95d20c"
      },
      "execution_count": 96,
      "outputs": [
        {
          "output_type": "stream",
          "name": "stdout",
          "text": [
            "Numbers spaced apart by 2: [ 0  2  4  6  8 10]\n"
          ]
        }
      ]
    },
    {
      "cell_type": "code",
      "source": [
        "# np.arange(0,11,2) : 0에서 2.5씩 증가해서 11전까지\n",
        "print(\"Numbers spaced apart by float:\",np.arange(0,11,2.5)) # Numbers spaced apart by 2.5"
      ],
      "metadata": {
        "colab": {
          "base_uri": "https://localhost:8080/"
        },
        "id": "_UtccvEbBmc_",
        "outputId": "e889b003-80b8-421b-8037-fb199fc36917"
      },
      "execution_count": 97,
      "outputs": [
        {
          "output_type": "stream",
          "name": "stdout",
          "text": [
            "Numbers spaced apart by float: [ 0.   2.5  5.   7.5 10. ]\n"
          ]
        }
      ]
    },
    {
      "cell_type": "code",
      "source": [
        "# np.arange(0,11,2) : 50에서 -5씩 증가해서 -1전까지\n",
        "print(\"Every 5th number from 50 in reverse order\\n\",np.arange(50,-1,-5))"
      ],
      "metadata": {
        "colab": {
          "base_uri": "https://localhost:8080/"
        },
        "id": "dM8gugmQB5QY",
        "outputId": "72a2cdd8-df3e-4cba-c7bb-5302256e0e32"
      },
      "execution_count": 98,
      "outputs": [
        {
          "output_type": "stream",
          "name": "stdout",
          "text": [
            "Every 5th number from 50 in reverse order\n",
            " [50 45 40 35 30 25 20 15 10  5  0]\n"
          ]
        }
      ]
    },
    {
      "cell_type": "code",
      "source": [
        "# np.linspace(1,5,21) : 1과 5 사이에 21개의 수 리스트로. 단 간격일정\n",
        "print(\"21 linearly spaced numbers between 1 and 5\\n--------------------------------------------\")\n",
        "print(np.linspace(1,5,21))"
      ],
      "metadata": {
        "colab": {
          "base_uri": "https://localhost:8080/"
        },
        "id": "CcEWAvJBB64b",
        "outputId": "53c4e9b5-5866-4bd7-d284-43e03bda2b0e"
      },
      "execution_count": 99,
      "outputs": [
        {
          "output_type": "stream",
          "name": "stdout",
          "text": [
            "21 linearly spaced numbers between 1 and 5\n",
            "--------------------------------------------\n",
            "[1.  1.2 1.4 1.6 1.8 2.  2.2 2.4 2.6 2.8 3.  3.2 3.4 3.6 3.8 4.  4.2 4.4\n",
            " 4.6 4.8 5. ]\n"
          ]
        }
      ]
    },
    {
      "cell_type": "code",
      "source": [
        "# np.zeros((3,4))\n",
        "# 1*5 영행렬\n",
        "print(\"Vector of zeroes\\n---------------------\")\n",
        "print(np.zeros(5))\n",
        "# 3*4 영행렬\n",
        "print(\"Matrix of zeroes\\n--------------------\")\n",
        "print(np.zeros((3,4))) # Notice Tuples\n"
      ],
      "metadata": {
        "colab": {
          "base_uri": "https://localhost:8080/"
        },
        "id": "B6BNJQ-RCGH5",
        "outputId": "f9d36f53-4da8-4e78-c85e-a275a33675e0"
      },
      "execution_count": 100,
      "outputs": [
        {
          "output_type": "stream",
          "name": "stdout",
          "text": [
            "Vector of zeroes\n",
            "---------------------\n",
            "[0. 0. 0. 0. 0.]\n",
            "Matrix of zeroes\n",
            "--------------------\n",
            "[[0. 0. 0. 0.]\n",
            " [0. 0. 0. 0.]\n",
            " [0. 0. 0. 0.]]\n"
          ]
        }
      ]
    },
    {
      "cell_type": "code",
      "source": [
        "# np.ones((5,2))\n",
        "# 1로만 채워진 행렬\n",
        "\n",
        "print(\"Vector of ones\\n---------------------\")\n",
        "print(np.ones(5))\n",
        "print(\"Matrix of ones\\n---------------------\")\n",
        "print(np.ones((5,2))) # Note matrix dimension specified by Tuples\n",
        "print(\"Matrix of 5's\\n---------------------\")\n",
        "print(5*np.ones((3,5)))"
      ],
      "metadata": {
        "colab": {
          "base_uri": "https://localhost:8080/"
        },
        "id": "SmnYZhmYCIqy",
        "outputId": "86b9f50c-719e-4d72-ff21-b7ee98c4408f"
      },
      "execution_count": 101,
      "outputs": [
        {
          "output_type": "stream",
          "name": "stdout",
          "text": [
            "Vector of ones\n",
            "---------------------\n",
            "[1. 1. 1. 1. 1.]\n",
            "Matrix of ones\n",
            "---------------------\n",
            "[[1. 1.]\n",
            " [1. 1.]\n",
            " [1. 1.]\n",
            " [1. 1.]\n",
            " [1. 1.]]\n",
            "Matrix of 5's\n",
            "---------------------\n",
            "[[5. 5. 5. 5. 5.]\n",
            " [5. 5. 5. 5. 5.]\n",
            " [5. 5. 5. 5. 5.]]\n"
          ]
        }
      ]
    },
    {
      "cell_type": "code",
      "source": [
        "# np.empty((3,5))\n",
        "# 랜덤값 행렬\n",
        "\n",
        "print(\"Empty matrix\\n-------------\\n\", np.empty((3,5)))"
      ],
      "metadata": {
        "colab": {
          "base_uri": "https://localhost:8080/"
        },
        "id": "FRGwpUEbCNGA",
        "outputId": "70f13bb8-ac76-4d60-864f-e36270b2bf7a"
      },
      "execution_count": 102,
      "outputs": [
        {
          "output_type": "stream",
          "name": "stdout",
          "text": [
            "Empty matrix\n",
            "-------------\n",
            " [[5. 5. 5. 5. 5.]\n",
            " [5. 5. 5. 5. 5.]\n",
            " [5. 5. 5. 5. 5.]]\n"
          ]
        }
      ]
    },
    {
      "cell_type": "code",
      "source": [
        "# np.eye(4)\n",
        "# diogonal 4*4행렬\n",
        "mat1 = np.eye(4)\n",
        "print(\"Identity matrix of dimension\", mat1.shape)\n",
        "print(mat1)"
      ],
      "metadata": {
        "colab": {
          "base_uri": "https://localhost:8080/"
        },
        "id": "s5TPyJAMCOMv",
        "outputId": "416097e4-3ed2-4b94-d6ed-09a6d561a67b"
      },
      "execution_count": 103,
      "outputs": [
        {
          "output_type": "stream",
          "name": "stdout",
          "text": [
            "Identity matrix of dimension (4, 4)\n",
            "[[1. 0. 0. 0.]\n",
            " [0. 1. 0. 0.]\n",
            " [0. 0. 1. 0.]\n",
            " [0. 0. 0. 1.]]\n"
          ]
        }
      ]
    },
    {
      "cell_type": "code",
      "source": [
        "# np.random.rand(2,3)\n",
        "# 0~1사이의 랜덤값으로 2*3행렬만듬\n",
        "print(\"Random number generation (from Uniform distribution)\")\n",
        "print(np.random.rand(2,3)) # 2 by 3 matrix with random numbers ranging from 0 to 1, Note no Tuple is necessary"
      ],
      "metadata": {
        "colab": {
          "base_uri": "https://localhost:8080/"
        },
        "id": "OZs3pPhIDYEO",
        "outputId": "0240520f-c7f1-489f-cacc-9f4dcf7801e7"
      },
      "execution_count": 104,
      "outputs": [
        {
          "output_type": "stream",
          "name": "stdout",
          "text": [
            "Random number generation (from Uniform distribution)\n",
            "[[0.15547117 0.61098433 0.83143139]\n",
            " [0.66430795 0.22974809 0.95280673]]\n"
          ]
        }
      ]
    },
    {
      "cell_type": "code",
      "source": [
        "# print(np.random.randn(4,3))\n",
        "# 표준 정규분포(평균 0, 표준편차 1)사이의 랜덤값으로 4*3행렬만듬\n",
        "\n",
        "print(\"Numbers from Normal distribution with zero mean and standard deviation 1 i.e. standard normal\")\n",
        "print(np.random.randn(4,3))"
      ],
      "metadata": {
        "colab": {
          "base_uri": "https://localhost:8080/"
        },
        "id": "1gQZnSFJDa68",
        "outputId": "88978d71-ba74-4d46-9753-ff1fef7d24be"
      },
      "execution_count": 105,
      "outputs": [
        {
          "output_type": "stream",
          "name": "stdout",
          "text": [
            "Numbers from Normal distribution with zero mean and standard deviation 1 i.e. standard normal\n",
            "[[ 1.86396978 -0.22757809  1.22647921]\n",
            " [ 0.47655842  1.07129743  0.75251739]\n",
            " [-1.99048906  2.30632853 -1.44120364]\n",
            " [ 0.47171193 -0.62498506  1.09041647]]\n"
          ]
        }
      ]
    },
    {
      "cell_type": "code",
      "source": [
        "# np.random.randint(1,100,10)\n",
        "# 1과 100사이의 랜덤한 정수를 10개 리스트로 생성\n",
        "# np.random.randint(1,100,(4,4))\n",
        "# 1과 100사이의 랜덤한 정수를 4*4행렬로 생성\n",
        "\n",
        "\n",
        "print(\"Random integer vector:\",np.random.randint(1,100,10)) #randint (low, high, # of samples to be drawn)\n",
        "print (\"\\nRandom integer matrix\")\n",
        "print(np.random.randint(1,100,(4,4))) #randint (low, high, # of samples to be drawn in a tuple to form a matrix)\n",
        "print(\"\\n20 samples drawn from a dice throw:\",np.random.randint(1,7,20)) # 20 samples drawn from a dice throw"
      ],
      "metadata": {
        "colab": {
          "base_uri": "https://localhost:8080/"
        },
        "id": "w8-7kT98Ddao",
        "outputId": "803e5c10-7e5c-4bc0-db04-b37fe58a1888"
      },
      "execution_count": 106,
      "outputs": [
        {
          "output_type": "stream",
          "name": "stdout",
          "text": [
            "Random integer vector: [ 7 78 30 18  5  7 98 64 40 64]\n",
            "\n",
            "Random integer matrix\n",
            "[[10  9 54 62]\n",
            " [30 88 44 74]\n",
            " [43 86 89 24]\n",
            " [13 36 56  4]]\n",
            "\n",
            "20 samples drawn from a dice throw: [5 5 6 5 5 5 3 6 5 6 3 1 6 4 3 5 5 5 2 4]\n"
          ]
        }
      ]
    },
    {
      "cell_type": "code",
      "source": [
        "# ri()\n",
        "# a.reshape\n",
        "\n",
        "from numpy.random import randint as ri\n",
        "a = ri(1,100,30) # 1부터 99 사이 정수 30개\n",
        "b = a.reshape(2,3,5) #a의 차원수는 3개. 각 차원당 2개 , 3개, 5개씩\n",
        "c = a.reshape(6,5) #a의 차원수는 2개. 각 차원당 6개,5개씩\n",
        "\n",
        "print (\"Shape of a:\", a.shape)\n",
        "print (\"Shape of b:\", b.shape)\n",
        "print (\"Shape of c:\", c.shape)\n",
        "print(\"\\na looks like\\n\",'-'*20,\"\\n\",a,\"\\n\",'-'*20)\n",
        "print(\"\\nb looks like\\n\",'-'*20,\"\\n\",b,\"\\n\",'-'*20)\n",
        "print(\"\\nc looks like\\n\",'-'*20,\"\\n\",c,\"\\n\",'-'*20)\n",
        "\n",
        "\n",
        "# np.sort(A, kind='mergesort')) : A를 sort\n",
        "\n",
        "A = ri(1,100,10) # Vector of random interegrs\n",
        "print(\"\\nVector of random integers\\n\",'-'*50,\"\\n\",A)\n",
        "print(\"\\nHere is the sorted vector\\n\",'-'*50,\"\\n\",np.sort(A, kind='mergesort'))\n",
        "\n",
        "M = ri(1,100,25).reshape(5,5) # Matrix of random interegrs\n",
        "print(\"\\n5x5 Matrix of random integers\\n\",'-'*50,\"\\n\",M)\n",
        "print(\"\\nHere is the sorted matrix along each row\\n\",'-'*50,\"\\n\",np.sort(M, kind='mergesort')) # Default axis =1\n",
        "print(\"\\nHere is the sorted matrix along each column\\n\",'-'*50,\"\\n\",np.sort(M, axis=0, kind='mergesort'))"
      ],
      "metadata": {
        "colab": {
          "base_uri": "https://localhost:8080/"
        },
        "id": "8rOoZPsyDfEQ",
        "outputId": "273d5363-20d4-4007-829c-f0f6dddd733b"
      },
      "execution_count": 107,
      "outputs": [
        {
          "output_type": "stream",
          "name": "stdout",
          "text": [
            "Shape of a: (30,)\n",
            "Shape of b: (2, 3, 5)\n",
            "Shape of c: (6, 5)\n",
            "\n",
            "a looks like\n",
            " -------------------- \n",
            " [23 11 47 68 17 44 94 38 31 24 18 30 70 70 98 27 25 55 29 33 55 71 77  1\n",
            " 97 22 25 59 68 14] \n",
            " --------------------\n",
            "\n",
            "b looks like\n",
            " -------------------- \n",
            " [[[23 11 47 68 17]\n",
            "  [44 94 38 31 24]\n",
            "  [18 30 70 70 98]]\n",
            "\n",
            " [[27 25 55 29 33]\n",
            "  [55 71 77  1 97]\n",
            "  [22 25 59 68 14]]] \n",
            " --------------------\n",
            "\n",
            "c looks like\n",
            " -------------------- \n",
            " [[23 11 47 68 17]\n",
            " [44 94 38 31 24]\n",
            " [18 30 70 70 98]\n",
            " [27 25 55 29 33]\n",
            " [55 71 77  1 97]\n",
            " [22 25 59 68 14]] \n",
            " --------------------\n",
            "\n",
            "Vector of random integers\n",
            " -------------------------------------------------- \n",
            " [67 89 21 49 21 48 68 61 21 65]\n",
            "\n",
            "Here is the sorted vector\n",
            " -------------------------------------------------- \n",
            " [21 21 21 48 49 61 65 67 68 89]\n",
            "\n",
            "5x5 Matrix of random integers\n",
            " -------------------------------------------------- \n",
            " [[48 24  9 77 59]\n",
            " [69 22  7 52 78]\n",
            " [16 47 91  5  8]\n",
            " [71 37 10 78 10]\n",
            " [ 8 88 24 78 77]]\n",
            "\n",
            "Here is the sorted matrix along each row\n",
            " -------------------------------------------------- \n",
            " [[ 9 24 48 59 77]\n",
            " [ 7 22 52 69 78]\n",
            " [ 5  8 16 47 91]\n",
            " [10 10 37 71 78]\n",
            " [ 8 24 77 78 88]]\n",
            "\n",
            "Here is the sorted matrix along each column\n",
            " -------------------------------------------------- \n",
            " [[ 8 22  7  5  8]\n",
            " [16 24  9 52 10]\n",
            " [48 37 10 77 59]\n",
            " [69 47 24 78 77]\n",
            " [71 88 91 78 78]]\n"
          ]
        }
      ]
    },
    {
      "cell_type": "code",
      "source": [
        "# a.max() : a의 최대값\n",
        "# a.argmax() : a의 최대값의 인덱스값\n",
        "# a.min() : a의 최소값\n",
        "# a.argmin() : a의 최소값의 인덱스값\n",
        "\n",
        "\n",
        "print(\"Max of a:\", a.max())\n",
        "print(\"Max of b:\", b.max())\n",
        "print(\"Max of a location:\", a.argmax())\n",
        "print(\"Max of b location:\", b.argmax())\n",
        "print(\"Max of c location:\", b.argmax())"
      ],
      "metadata": {
        "colab": {
          "base_uri": "https://localhost:8080/"
        },
        "id": "BrfCfteXDiIK",
        "outputId": "d8fe1407-7a60-4c72-f050-b0a34dbfe9b7"
      },
      "execution_count": 108,
      "outputs": [
        {
          "output_type": "stream",
          "name": "stdout",
          "text": [
            "Max of a: 98\n",
            "Max of b: 98\n",
            "Max of a location: 14\n",
            "Max of b location: 14\n",
            "Max of c location: 14\n"
          ]
        }
      ]
    },
    {
      "cell_type": "code",
      "source": [
        "# np.arange(0,11) : [ 0  1  2  3  4  5  6  7  8  9 10]\n",
        "\n",
        "arr = np.arange(0,11)\n",
        "print(\"Array:\",arr)\n",
        "print(\"Element at 7th index is:\", arr[7])\n",
        "print(\"Elements from 3rd to 5th index are:\", arr[3:6])\n",
        "print(\"Elements up to 4th index are:\", arr[:4])\n",
        "print(\"Elements from last backwards are:\", arr[-1::-1])\n",
        "print(\"3 Elements from last backwards are:\", arr[-1:-6:-2])\n",
        "\n",
        "\n",
        "# np.arange(0,21,2) : [ 0  2  4  6  8 10 12 14 16 18 20]\n",
        "\n",
        "arr = np.arange(0,21,2)\n",
        "print(\"New array:\",arr)\n",
        "print(\"Elements at 2nd, 4th, and 9th index are:\", arr[[2,4,9]]) # Pass a list as a index to subset"
      ],
      "metadata": {
        "colab": {
          "base_uri": "https://localhost:8080/"
        },
        "id": "rxxiqhBFDkJZ",
        "outputId": "1ea53500-5a76-4a1f-bfbe-face089f5fb3"
      },
      "execution_count": 109,
      "outputs": [
        {
          "output_type": "stream",
          "name": "stdout",
          "text": [
            "Array: [ 0  1  2  3  4  5  6  7  8  9 10]\n",
            "Element at 7th index is: 7\n",
            "Elements from 3rd to 5th index are: [3 4 5]\n",
            "Elements up to 4th index are: [0 1 2 3]\n",
            "Elements from last backwards are: [10  9  8  7  6  5  4  3  2  1  0]\n",
            "3 Elements from last backwards are: [10  8  6]\n",
            "New array: [ 0  2  4  6  8 10 12 14 16 18 20]\n",
            "Elements at 2nd, 4th, and 9th index are: [ 4  8 18]\n"
          ]
        }
      ]
    },
    {
      "cell_type": "code",
      "source": [
        "mat = np.array(ri(10,100,15)).reshape(3,5) # 10부터 100 사이 정수 15 개 3*5행렬로\n",
        "\n",
        "print(\"Matrix of random 2-digit numbers\\n--------------------------------\\n\",mat)\n",
        "\n",
        "print(\"\\nDouble bracket indexing\\n------------------------\")\n",
        "print(\"Element in row index 1 and column index 2:\", mat[1][2])\n",
        "\n",
        "print(\"\\nSingle bracket with comma indexing\\n----------------------------------\")\n",
        "print(\"Element in row index 1 and column index 2:\", mat[1,2])\n",
        "print(\"\\nRow or column extract\\n----------------------\")\n",
        "\n",
        "print(\"Entire row at index 2:\", mat[2])\n",
        "print(\"Entire column at index 3:\", mat[:,3])\n",
        "\n",
        "print(\"\\nSubsetting sub-matrices\\n--------------------------\")\n",
        "print(\"Matrix with row indices 1 and 2 and column indices 3 and 4\\n\", mat[1:3,3:5])\n",
        "print(\"Matrix with row indices 0 and 1 and column indices 1 and 3\\n\", mat[0:2,[1,3]])"
      ],
      "metadata": {
        "colab": {
          "base_uri": "https://localhost:8080/"
        },
        "id": "NOSgwaq5Dl19",
        "outputId": "c20f5c6d-35ea-4814-84da-dd6f6d18b71e"
      },
      "execution_count": 110,
      "outputs": [
        {
          "output_type": "stream",
          "name": "stdout",
          "text": [
            "Matrix of random 2-digit numbers\n",
            "--------------------------------\n",
            " [[37 38 91 68 82]\n",
            " [13 53 72 97 91]\n",
            " [50 79 23 21 62]]\n",
            "\n",
            "Double bracket indexing\n",
            "------------------------\n",
            "Element in row index 1 and column index 2: 72\n",
            "\n",
            "Single bracket with comma indexing\n",
            "----------------------------------\n",
            "Element in row index 1 and column index 2: 72\n",
            "\n",
            "Row or column extract\n",
            "----------------------\n",
            "Entire row at index 2: [50 79 23 21 62]\n",
            "Entire column at index 3: [68 97 21]\n",
            "\n",
            "Subsetting sub-matrices\n",
            "--------------------------\n",
            "Matrix with row indices 1 and 2 and column indices 3 and 4\n",
            " [[97 91]\n",
            " [21 62]]\n",
            "Matrix with row indices 0 and 1 and column indices 1 and 3\n",
            " [[38 68]\n",
            " [53 97]]\n"
          ]
        }
      ]
    },
    {
      "cell_type": "code",
      "source": [
        "\n",
        "# mat[mat>50] : mat>50 조건으로 리스트만듬\n",
        "\n",
        "mat = np.array(ri(10,100,15)).reshape(3,5)\n",
        "print(\"Matrix of random 2-digit numbers\\n--------------------------------\\n\",mat)\n",
        "print (\"Elements greater than 50\\n\", mat[mat>50])"
      ],
      "metadata": {
        "colab": {
          "base_uri": "https://localhost:8080/"
        },
        "id": "RqKk0a5mDnmN",
        "outputId": "cb4e2906-9de6-42be-9313-eb3d41a9ddf0"
      },
      "execution_count": 111,
      "outputs": [
        {
          "output_type": "stream",
          "name": "stdout",
          "text": [
            "Matrix of random 2-digit numbers\n",
            "--------------------------------\n",
            " [[93 30 20 80 70]\n",
            " [91 15 63 95 42]\n",
            " [77 71 59 45 82]]\n",
            "Elements greater than 50\n",
            " [93 80 70 91 63 95 77 71 59 82]\n"
          ]
        }
      ]
    },
    {
      "cell_type": "code",
      "source": [
        "# mat_slice = mat[:2,:2]\n",
        "# mat_slice[0,0] = 1000\n",
        "# ->mat_slice 바뀜\n",
        "\n",
        "\n",
        "mat = np.array([[11,12,13],[21,22,23],[31,32,33]])\n",
        "print(\"Original matrix\")\n",
        "print(mat)\n",
        "mat_slice = mat[:2,:2]\n",
        "print (\"\\nSliced matrix\")\n",
        "print(mat_slice)\n",
        "print (\"\\nChange the sliced matrix\")\n",
        "mat_slice[0,0] = 1000\n",
        "print (mat_slice)\n",
        "print(\"\\nBut the original matrix? WHOA! It got changed too!\")\n",
        "print(mat)\n",
        "\n",
        "\n",
        "\n",
        "# mat_slice = np.array(mat[:2,:2])\n",
        "# mat_slice[0,0] = 1000\n",
        "# ->mat_slice 안바뀜\n",
        "\n",
        "# Little different way to create a copy of the slixed matrix\n",
        "print (\"\\nDoing it again little differently now...\\n\")\n",
        "mat = np.array([[11,12,13],[21,22,23],[31,32,33]])\n",
        "print(\"Original matrix\")\n",
        "print(mat)\n",
        "mat_slice = np.array(mat[:2,:2]) # Notice the np.array command to create a new array not just slicing\n",
        "print (\"\\nSliced matrix\")\n",
        "print(mat_slice)\n",
        "print (\"\\nChange the sliced matrix\")\n",
        "mat_slice[0,0] = 1000\n",
        "print (mat_slice)\n",
        "print(\"\\nBut the original matrix? NO CHANGE this time:)\")\n",
        "print(mat)"
      ],
      "metadata": {
        "colab": {
          "base_uri": "https://localhost:8080/"
        },
        "id": "ph37ReIJDqLW",
        "outputId": "74e9d066-13c8-44be-e7a6-e15e66f7008c"
      },
      "execution_count": 112,
      "outputs": [
        {
          "output_type": "stream",
          "name": "stdout",
          "text": [
            "Original matrix\n",
            "[[11 12 13]\n",
            " [21 22 23]\n",
            " [31 32 33]]\n",
            "\n",
            "Sliced matrix\n",
            "[[11 12]\n",
            " [21 22]]\n",
            "\n",
            "Change the sliced matrix\n",
            "[[1000   12]\n",
            " [  21   22]]\n",
            "\n",
            "But the original matrix? WHOA! It got changed too!\n",
            "[[1000   12   13]\n",
            " [  21   22   23]\n",
            " [  31   32   33]]\n",
            "\n",
            "Doing it again little differently now...\n",
            "\n",
            "Original matrix\n",
            "[[11 12 13]\n",
            " [21 22 23]\n",
            " [31 32 33]]\n",
            "\n",
            "Sliced matrix\n",
            "[[11 12]\n",
            " [21 22]]\n",
            "\n",
            "Change the sliced matrix\n",
            "[[1000   12]\n",
            " [  21   22]]\n",
            "\n",
            "But the original matrix? NO CHANGE this time:)\n",
            "[[11 12 13]\n",
            " [21 22 23]\n",
            " [31 32 33]]\n"
          ]
        }
      ]
    },
    {
      "cell_type": "code",
      "source": [
        "# 행렬 덧셈곱셈나눗셈제곱루트\n",
        "\n",
        "\n",
        "mat1 = np.array(ri(1,10,9)).reshape(3,3)\n",
        "mat2 = np.array(ri(1,10,9)).reshape(3,3)\n",
        "print(\"\\n1st Matrix of random single-digit numbers\\n----------------------------------------\\n\",mat1)\n",
        "print(\"\\n2nd Matrix of random single-digit numbers\\n----------------------------------------\\n\",mat2)\n",
        "\n",
        "print(\"\\nAddition\\n------------------\\n\", mat1+mat2)\n",
        "print(\"\\nMultiplication\\n------------------\\n\", mat1*mat2)\n",
        "print(\"\\nDivision\\n------------------\\n\", mat1/mat2)\n",
        "print(\"\\nLineaer combination: 3*A - 2*B\\n-----------------------------\\n\", 3*mat1-2*mat2)\n",
        "\n",
        "print(\"\\nAddition of a scalar (100)\\n-------------------------\\n\", 100+mat1)\n",
        "\n",
        "print(\"\\nExponentiation, matrix cubed here\\n----------------------------------------\\n\", mat1**3)\n",
        "print(\"\\nExponentiation, sq-root using pow function\\n-------------------------------------------\\n\",pow(mat1,0.5))"
      ],
      "metadata": {
        "colab": {
          "base_uri": "https://localhost:8080/"
        },
        "id": "BS6uQ8PhDsS6",
        "outputId": "efa19e44-4b14-43b6-edf9-2996d875111f"
      },
      "execution_count": 113,
      "outputs": [
        {
          "output_type": "stream",
          "name": "stdout",
          "text": [
            "\n",
            "1st Matrix of random single-digit numbers\n",
            "----------------------------------------\n",
            " [[4 5 7]\n",
            " [5 5 1]\n",
            " [1 9 3]]\n",
            "\n",
            "2nd Matrix of random single-digit numbers\n",
            "----------------------------------------\n",
            " [[8 4 5]\n",
            " [2 7 9]\n",
            " [3 6 9]]\n",
            "\n",
            "Addition\n",
            "------------------\n",
            " [[12  9 12]\n",
            " [ 7 12 10]\n",
            " [ 4 15 12]]\n",
            "\n",
            "Multiplication\n",
            "------------------\n",
            " [[32 20 35]\n",
            " [10 35  9]\n",
            " [ 3 54 27]]\n",
            "\n",
            "Division\n",
            "------------------\n",
            " [[0.5        1.25       1.4       ]\n",
            " [2.5        0.71428571 0.11111111]\n",
            " [0.33333333 1.5        0.33333333]]\n",
            "\n",
            "Lineaer combination: 3*A - 2*B\n",
            "-----------------------------\n",
            " [[ -4   7  11]\n",
            " [ 11   1 -15]\n",
            " [ -3  15  -9]]\n",
            "\n",
            "Addition of a scalar (100)\n",
            "-------------------------\n",
            " [[104 105 107]\n",
            " [105 105 101]\n",
            " [101 109 103]]\n",
            "\n",
            "Exponentiation, matrix cubed here\n",
            "----------------------------------------\n",
            " [[ 64 125 343]\n",
            " [125 125   1]\n",
            " [  1 729  27]]\n",
            "\n",
            "Exponentiation, sq-root using pow function\n",
            "-------------------------------------------\n",
            " [[2.         2.23606798 2.64575131]\n",
            " [2.23606798 2.23606798 1.        ]\n",
            " [1.         3.         1.73205081]]\n"
          ]
        }
      ]
    },
    {
      "cell_type": "markdown",
      "source": [
        "---\n",
        "\n",
        "🌀 Broadcasting (브로드캐스팅, 진짜 멋진\n",
        "\n",
        "\n",
        "기능)\n",
        "NumPy 연산은 보통 두 배열 간에 요소별(element-wise) 연산으로 수행돼. 가장 단순한 경우에는, 두 배열의 **shape(형태)**가 정확히 같아야 해.\n",
        "\n",
        "하지만 NumPy의 브로드캐스팅 규칙은 배열의 shape이 특정 조건을 만족하면 이 제약을 완화해줘.\n",
        "두 배열이 연산될 때, NumPy는 각 배열의 shape을 뒤에서부터 차원별로 비교해.\n",
        "\n",
        "✅ 두 차원이 호환되는 조건은?\n",
        "두 차원의 크기가 같거나\n",
        "\n",
        "둘 중 하나가 1인 경우\n",
        "\n",
        "이 조건이 충족되지 않으면 ValueError: frames are not aligned라는 예외가 발생하고, 배열의 shape이 호환되지 않는다는 뜻이야.\n",
        "\n",
        "연산 결과의 배열은 입력 배열 각각의 차원 중 가장 큰 크기를 따라간 shape을 갖게 돼.\n",
        "\n",
        "For more detail, please look up: https://docs.scipy.org/doc/numpy-1.10.1/user/basics.broadcasting.html"
      ],
      "metadata": {
        "id": "nCsbeY-vR3eG"
      }
    },
    {
      "cell_type": "code",
      "source": [
        "# np.zeros((4,3))\n",
        "#영행렬\n",
        "\n",
        "start = np.zeros((4,3))\n",
        "print(start)"
      ],
      "metadata": {
        "colab": {
          "base_uri": "https://localhost:8080/"
        },
        "id": "11W1VPr5Du9s",
        "outputId": "0ede9358-a6cb-4002-e9a5-8382fd520a74"
      },
      "execution_count": 114,
      "outputs": [
        {
          "output_type": "stream",
          "name": "stdout",
          "text": [
            "[[0. 0. 0.]\n",
            " [0. 0. 0.]\n",
            " [0. 0. 0.]\n",
            " [0. 0. 0.]]\n"
          ]
        }
      ]
    },
    {
      "cell_type": "code",
      "source": [
        "# np.array(리스트)\n",
        "\n",
        "\n",
        "\n",
        "# create a rank 1 ndarray with 3 values\n",
        "add_rows = np.array([1, 0, 2])\n",
        "print(add_rows)"
      ],
      "metadata": {
        "colab": {
          "base_uri": "https://localhost:8080/"
        },
        "id": "Bg4z0q48Dv8W",
        "outputId": "6f421f79-1d61-49cd-d4bd-907e321a5f67"
      },
      "execution_count": 115,
      "outputs": [
        {
          "output_type": "stream",
          "name": "stdout",
          "text": [
            "[1 0 2]\n"
          ]
        }
      ]
    },
    {
      "cell_type": "code",
      "source": [
        "# 큰행렬+작은행렬 덧셈 ->더 큰 행렬 기준\n",
        "\n",
        "\n",
        "y = start + add_rows  # add to each row of 'start' using broadcasting\n",
        "print(y)"
      ],
      "metadata": {
        "colab": {
          "base_uri": "https://localhost:8080/"
        },
        "id": "AlJ8L4y3Dw0_",
        "outputId": "fe0a053b-9acf-440e-8ce9-defa57880ef5"
      },
      "execution_count": 116,
      "outputs": [
        {
          "output_type": "stream",
          "name": "stdout",
          "text": [
            "[[1. 0. 2.]\n",
            " [1. 0. 2.]\n",
            " [1. 0. 2.]\n",
            " [1. 0. 2.]]\n"
          ]
        }
      ]
    },
    {
      "cell_type": "code",
      "source": [
        "# np.array(행렬).transpose\n",
        "\n",
        "\n",
        "# create an ndarray which is 4 x 1 to broadcast across columns\n",
        "add_cols = np.array([[0,1,2,3]])\n",
        "add_cols = add_cols.T\n",
        "print(add_cols)"
      ],
      "metadata": {
        "colab": {
          "base_uri": "https://localhost:8080/"
        },
        "id": "XMcubJWRDyG8",
        "outputId": "9782ffd7-c8a1-4feb-f587-076abfc47955"
      },
      "execution_count": 117,
      "outputs": [
        {
          "output_type": "stream",
          "name": "stdout",
          "text": [
            "[[0]\n",
            " [1]\n",
            " [2]\n",
            " [3]]\n"
          ]
        }
      ]
    },
    {
      "cell_type": "code",
      "source": [
        "# 큰행렬+작은행렬 덧셈 ->더 큰 행렬 기준\n",
        "\n",
        "# add to each column of 'start' using broadcasting\n",
        "y = start + add_cols\n",
        "print(y)\n"
      ],
      "metadata": {
        "colab": {
          "base_uri": "https://localhost:8080/"
        },
        "id": "r44DnF4tD0DK",
        "outputId": "f9da6751-7b67-472b-90d6-87aa14929682"
      },
      "execution_count": 118,
      "outputs": [
        {
          "output_type": "stream",
          "name": "stdout",
          "text": [
            "[[0. 0. 0.]\n",
            " [1. 1. 1.]\n",
            " [2. 2. 2.]\n",
            " [3. 3. 3.]]\n"
          ]
        }
      ]
    },
    {
      "cell_type": "code",
      "source": [
        "# 큰행렬+작은행렬 덧셈 ->더 큰 행렬 기준\n",
        "\n",
        "\n",
        "# this will just broadcast in both dimensions\n",
        "add_scalar = np.array([100])\n",
        "print(start+add_scalar)"
      ],
      "metadata": {
        "colab": {
          "base_uri": "https://localhost:8080/"
        },
        "id": "KNfGy9hJD1Qt",
        "outputId": "a80a72c9-98b2-4d42-999f-f10970fc015d"
      },
      "execution_count": 119,
      "outputs": [
        {
          "output_type": "stream",
          "name": "stdout",
          "text": [
            "[[100. 100. 100.]\n",
            " [100. 100. 100.]\n",
            " [100. 100. 100.]\n",
            " [100. 100. 100.]]\n"
          ]
        }
      ]
    },
    {
      "cell_type": "code",
      "source": [
        "mat1 = np.array(ri(1,10,9)).reshape(3,3)\n",
        "mat2 = np.array(ri(1,10,9)).reshape(3,3)\n",
        "print(\"\\n1st Matrix of random single-digit numbers\\n----------------------------------------\\n\",mat1)\n",
        "print(\"\\n2nd Matrix of random single-digit numbers\\n----------------------------------------\\n\",mat2)\n",
        "\n",
        "print(\"\\nSq-root of 1st matrix using np\\n------------------\\n\", np.sqrt(mat1))\n",
        "print(\"\\nExponential power of 1st matrix using np\\n\",'-'*50,\"\\n\", np.exp(mat1))\n",
        "print(\"\\n10-base logarithm on 1st matrix using np\\n\",'-'*50,\"\\n\", np.log10(mat1))\n",
        "print(\"\\nModulo reminder using np\\n\",'-'*50,\"\\n\", np.fmod(mat1,mat2))\n",
        "\n",
        "print(\"\\nCombination of functions by shwoing exponetial decay of a sine wave\\n\",'-'*70)\n",
        "A = np.linspace(0,12*np.pi,1001)\n",
        "# 0부터 12π까지를 1001개의 점으로 균등하게 나눈 1차원 배열\n",
        "import matplotlib.pyplot as plt\n",
        "plt.scatter(x=A,y=100*np.exp(-A/10)*(np.sin(A)))\n",
        "plt.title(\"Exponential decay of sine wave: exp(-x)*sin(x)\")\n",
        "plt.show()"
      ],
      "metadata": {
        "colab": {
          "base_uri": "https://localhost:8080/",
          "height": 1000
        },
        "id": "wwbHUD-ID2-u",
        "outputId": "2ba1ea4d-faac-49b9-a10e-164b6d2725d8"
      },
      "execution_count": 120,
      "outputs": [
        {
          "output_type": "stream",
          "name": "stdout",
          "text": [
            "\n",
            "1st Matrix of random single-digit numbers\n",
            "----------------------------------------\n",
            " [[8 2 5]\n",
            " [8 9 3]\n",
            " [2 2 3]]\n",
            "\n",
            "2nd Matrix of random single-digit numbers\n",
            "----------------------------------------\n",
            " [[9 8 9]\n",
            " [1 7 3]\n",
            " [6 1 9]]\n",
            "\n",
            "Sq-root of 1st matrix using np\n",
            "------------------\n",
            " [[2.82842712 1.41421356 2.23606798]\n",
            " [2.82842712 3.         1.73205081]\n",
            " [1.41421356 1.41421356 1.73205081]]\n",
            "\n",
            "Exponential power of 1st matrix using np\n",
            " -------------------------------------------------- \n",
            " [[2.98095799e+03 7.38905610e+00 1.48413159e+02]\n",
            " [2.98095799e+03 8.10308393e+03 2.00855369e+01]\n",
            " [7.38905610e+00 7.38905610e+00 2.00855369e+01]]\n",
            "\n",
            "10-base logarithm on 1st matrix using np\n",
            " -------------------------------------------------- \n",
            " [[0.90308999 0.30103    0.69897   ]\n",
            " [0.90308999 0.95424251 0.47712125]\n",
            " [0.30103    0.30103    0.47712125]]\n",
            "\n",
            "Modulo reminder using np\n",
            " -------------------------------------------------- \n",
            " [[8 2 5]\n",
            " [0 2 0]\n",
            " [2 0 3]]\n",
            "\n",
            "Combination of functions by shwoing exponetial decay of a sine wave\n",
            " ----------------------------------------------------------------------\n"
          ]
        },
        {
          "output_type": "display_data",
          "data": {
            "text/plain": [
              "<Figure size 640x480 with 1 Axes>"
            ],
            "image/png": "[encoded data removed]"
          },
          "metadata": {}
        }
      ]
    },
    {
      "cell_type": "code",
      "source": [
        "# np.sum, np.prod, np.mean, np.std, np.var, np.median, np.percentile\n",
        "\n",
        "mat1 = np.array(ri(1,10,9)).reshape(3,3)\n",
        "mat2 = np.array(ri(1,10,9)).reshape(3,3)\n",
        "print(\"\\n1st Matrix of random single-digit numbers\\n\",\"-\"*50,\"\\n\",mat1)\n",
        "print(\"\\n2nd Matrix of random single-digit numbers\\n\",\"-\"*50,\"\\n\",mat2)\n",
        "\n",
        "print(\"\\nSum of all numbers in 1st matrix\\n\",\"-\"*50,\"\\n\",np.sum(mat1))\n",
        "print(\"\\nSum of all numbers in columns of 1st matrix\\n\",\"-\"*50,\"\\n\",np.sum(mat1,axis=0))\n",
        "print(\"\\nSum of all numbers in rows of 1st matrix\\n\",\"-\"*50,\"\\n\",np.sum(mat1,axis=1))\n",
        "print(\"\\nProduct of all numbers in rows of 1st matrix\\n\",\"-\"*50,\"\\n\",np.prod(mat1,axis=1))\n",
        "print(\"\\nProduct of all numbers in columns of 2nd matrix\\n\",\"-\"*50,\"\\n\",np.prod(mat2,axis=0))\n",
        "print(\"\\nMean of all numbers in 1st matrix\\n\",\"-\"*50,\"\\n\",np.mean(mat1))\n",
        "print(\"\\nStandard deviation of all numbers in 1st matrix\\n\",\"-\"*50,\"\\n\",np.std(mat1))\n",
        "\n",
        "mat1 = np.array(ri(1,100,9)).reshape(3,3)\n",
        "print(\"\\nModified matrix of random numbers from 1 to 99\\n\",\"-\"*50,\"\\n\",mat1)\n",
        "print(\"\\nStandard deviation of all numbers in the modified matrix, a larger number\\n\",\"-\"*80,\"\\n\",np.std(mat1))\n",
        "print(\"\\nVariance of all numbers in the modified matrix, a larger number\\n\",\"-\"*80,\"\\n\",np.var(mat1))\n",
        "print(\"\\nMedian of all numbers in the modified matrix\\n\",\"-\"*60,\"\\n\",np.median(mat1))\n",
        "\n",
        "mat2 = np.array(ri(1,100,50)).reshape(10,5)\n",
        "print(\"\\nModified matrix of 50 random numbers from 1 to 99\\n\",\"-\"*50,\"\\n\",mat2)\n",
        "print(\"\\nStandard deviation along the columns in the modified matrix\\n\",\"-\"*60,\"\\n\",np.std(mat2,axis=0))\n",
        "\n",
        "mat1 = np.array(ri(1,100,20)).reshape(4,5)\n",
        "print(\"\\nModified matrix of random numbers from 1 to 49\\n\",\"-\"*50,\"\\n\",mat1)\n",
        "print(\"\\nFlattened and sorted matrix (as vector)\\n\",\"-\"*50,\"\\n\",np.sort(mat1.reshape(1,20)))\n",
        "print(\"\\n50th percentile of all numbers in the modified matrix\\n\",\"-\"*60,\"\\n\",np.percentile(mat1,50))\n",
        "print(\"\\n90th percentile of all numbers in the modified matrix\\n\",\"-\"*60,\"\\n\",np.percentile(mat1,90))"
      ],
      "metadata": {
        "colab": {
          "base_uri": "https://localhost:8080/"
        },
        "id": "isZyotVBD6Jt",
        "outputId": "84d75027-3bfd-4b13-b067-6bd5f389e6cb"
      },
      "execution_count": 121,
      "outputs": [
        {
          "output_type": "stream",
          "name": "stdout",
          "text": [
            "\n",
            "1st Matrix of random single-digit numbers\n",
            " -------------------------------------------------- \n",
            " [[4 4 3]\n",
            " [4 8 3]\n",
            " [9 6 7]]\n",
            "\n",
            "2nd Matrix of random single-digit numbers\n",
            " -------------------------------------------------- \n",
            " [[5 5 4]\n",
            " [7 1 2]\n",
            " [8 4 9]]\n",
            "\n",
            "Sum of all numbers in 1st matrix\n",
            " -------------------------------------------------- \n",
            " 48\n",
            "\n",
            "Sum of all numbers in columns of 1st matrix\n",
            " -------------------------------------------------- \n",
            " [17 18 13]\n",
            "\n",
            "Sum of all numbers in rows of 1st matrix\n",
            " -------------------------------------------------- \n",
            " [11 15 22]\n",
            "\n",
            "Product of all numbers in rows of 1st matrix\n",
            " -------------------------------------------------- \n",
            " [ 48  96 378]\n",
            "\n",
            "Product of all numbers in columns of 2nd matrix\n",
            " -------------------------------------------------- \n",
            " [280  20  72]\n",
            "\n",
            "Mean of all numbers in 1st matrix\n",
            " -------------------------------------------------- \n",
            " 5.333333333333333\n",
            "\n",
            "Standard deviation of all numbers in 1st matrix\n",
            " -------------------------------------------------- \n",
            " 2.1081851067789197\n",
            "\n",
            "Modified matrix of random numbers from 1 to 99\n",
            " -------------------------------------------------- \n",
            " [[83 35 27]\n",
            " [40 92 91]\n",
            " [ 9 26 18]]\n",
            "\n",
            "Standard deviation of all numbers in the modified matrix, a larger number\n",
            " -------------------------------------------------------------------------------- \n",
            " 30.868098518905235\n",
            "\n",
            "Variance of all numbers in the modified matrix, a larger number\n",
            " -------------------------------------------------------------------------------- \n",
            " 952.8395061728396\n",
            "\n",
            "Median of all numbers in the modified matrix\n",
            " ------------------------------------------------------------ \n",
            " 35.0\n",
            "\n",
            "Modified matrix of 50 random numbers from 1 to 99\n",
            " -------------------------------------------------- \n",
            " [[42 32 99 15 82]\n",
            " [ 1 16 36 55 25]\n",
            " [28 32 46 53 31]\n",
            " [13 79 20 39 38]\n",
            " [30 55 22 90 70]\n",
            " [21 89 38 26 10]\n",
            " [84 51 35 31 92]\n",
            " [41 57 45 59 98]\n",
            " [ 7 55  1 59 34]\n",
            " [ 4 95 46 20 63]]\n",
            "\n",
            "Standard deviation along the columns in the modified matrix\n",
            " ------------------------------------------------------------ \n",
            " [23.48808208 24.32878953 24.19421418 21.67510092 29.08968889]\n",
            "\n",
            "Modified matrix of random numbers from 1 to 49\n",
            " -------------------------------------------------- \n",
            " [[39 71 94 32 96]\n",
            " [91 90 16 17 11]\n",
            " [77 38 83  8  8]\n",
            " [56 64 70 18 58]]\n",
            "\n",
            "Flattened and sorted matrix (as vector)\n",
            " -------------------------------------------------- \n",
            " [[ 8  8 11 16 17 18 32 38 39 56 58 64 70 71 77 83 90 91 94 96]]\n",
            "\n",
            "50th percentile of all numbers in the modified matrix\n",
            " ------------------------------------------------------------ \n",
            " 57.0\n",
            "\n",
            "90th percentile of all numbers in the modified matrix\n",
            " ------------------------------------------------------------ \n",
            " 91.30000000000001\n"
          ]
        }
      ]
    },
    {
      "cell_type": "code",
      "source": [
        "# 두 행렬 간 상관계수 행렬\n",
        "\n",
        "\n",
        "A = ri(1,5,20) # 20 random integeres from a small range (1-10)\n",
        "B = 2*A+5*np.random.randn(20) # B is twice that of A plus some random noise\n",
        "print(\"\\nB is twice that of A plus some random noise\")\n",
        "plt.scatter(A,B) # Scatter plot of B\n",
        "plt.title(\"Scatter plot of A vs. B, expect a small positive correlation\")\n",
        "plt.show()\n",
        "print(np.corrcoef(A,B)) # Correleation coefficient matrix between A and B\n",
        "\n",
        "A = ri(1,50,20) # 20 random integeres from a larger range (1-50)\n",
        "B = 100-2*A+10*np.random.randn(20) # B is 100 minus twice that of A plus some random noise\n",
        "print(\"\\nB is 100 minus twice that of A plus some random noise\")\n",
        "plt.scatter(A,B) # Scatter plot of B\n",
        "plt.title(\"Scatter plot of A vs. B, expect a large negative correlation\")\n",
        "plt.show()\n",
        "print(\"\")\n",
        "print(np.corrcoef(A,B)) # Correleation coefficient matrix between A and B"
      ],
      "metadata": {
        "colab": {
          "base_uri": "https://localhost:8080/",
          "height": 1000
        },
        "id": "lcBDDdxED8-z",
        "outputId": "a0b91b79-a00f-49c7-e151-b7a38e1d3a03"
      },
      "execution_count": 72,
      "outputs": [
        {
          "output_type": "stream",
          "name": "stdout",
          "text": [
            "\n",
            "B is twice that of A plus some random noise\n"
          ]
        },
        {
          "output_type": "display_data",
          "data": {
            "text/plain": [
              "<Figure size 640x480 with 1 Axes>"
            ],
            "image/png": "[encoded data removed]"
          },
          "metadata": {}
        },
        {
          "output_type": "stream",
          "name": "stdout",
          "text": [
            "[[1.         0.37522633]\n",
            " [0.37522633 1.        ]]\n",
            "\n",
            "B is 100 minus twice that of A plus some random noise\n"
          ]
        },
        {
          "output_type": "display_data",
          "data": {
            "text/plain": [
              "<Figure size 640x480 with 1 Axes>"
            ],
            "image/png": "[encoded data removed]"
          },
          "metadata": {}
        },
        {
          "output_type": "stream",
          "name": "stdout",
          "text": [
            "\n",
            "[[ 1.         -0.95894536]\n",
            " [-0.95894536  1.        ]]\n"
          ]
        }
      ]
    },
    {
      "cell_type": "code",
      "source": [
        "# 행렬곱\n",
        "# np.dot(A,B)\n",
        "\n",
        "A = np.arange(1,10).reshape(3,3)\n",
        "B = ri(1,10,9).reshape(3,3)\n",
        "print(\"\\n1st Matrix of 1-9 single-digit numbers (A)\\n\",\"-\"*50,\"\\n\",A)\n",
        "print(\"\\n2nd Matrix of random single-digit numbers (B)\\n\",\"-\"*50,\"\\n\",B)\n",
        "\n",
        "print(\"\\nDot product of A and B (for 2D arrays it is equivalent to matrix multiplication) \\n\",\"-\"*80,\"\\n\",np.dot(A,B))\n",
        "\n",
        "\n",
        "\n",
        "# 행렬내적\n",
        "# np.inner(A,B)\n",
        "# 행렬외적\n",
        "# np.outer(A,B)\n",
        "\n",
        "A = np.arange(1,6)\n",
        "B = ri(1,10,5)\n",
        "print(\"\\n1st Vector of 1-5 numbers (A)\\n\",\"-\"*50,\"\\n\",A)\n",
        "print(\"\\n2nd Vector of 5 random single-digit numbers (B)\\n\",\"-\"*50,\"\\n\",B)\n",
        "\n",
        "print(\"\\nInner product of vectors A and B \\n\",\"-\"*50,\"\\n\",np.inner(A,B), \"(sum of all pairwise elements)\")\n",
        "print(\"\\nOuter product of vectors A and B \\n\",\"-\"*50,\"\\n\",np.outer(A,B))"
      ],
      "metadata": {
        "colab": {
          "base_uri": "https://localhost:8080/"
        },
        "id": "-jNIBPx-D_FU",
        "outputId": "c5b873b0-329d-43d2-e172-cf9defe4c3dd"
      },
      "execution_count": 122,
      "outputs": [
        {
          "output_type": "stream",
          "name": "stdout",
          "text": [
            "\n",
            "1st Matrix of 1-9 single-digit numbers (A)\n",
            " -------------------------------------------------- \n",
            " [[1 2 3]\n",
            " [4 5 6]\n",
            " [7 8 9]]\n",
            "\n",
            "2nd Matrix of random single-digit numbers (B)\n",
            " -------------------------------------------------- \n",
            " [[1 6 8]\n",
            " [3 6 4]\n",
            " [8 9 4]]\n",
            "\n",
            "Dot product of A and B (for 2D arrays it is equivalent to matrix multiplication) \n",
            " -------------------------------------------------------------------------------- \n",
            " [[ 31  45  28]\n",
            " [ 67 108  76]\n",
            " [103 171 124]]\n",
            "\n",
            "1st Vector of 1-5 numbers (A)\n",
            " -------------------------------------------------- \n",
            " [1 2 3 4 5]\n",
            "\n",
            "2nd Vector of 5 random single-digit numbers (B)\n",
            " -------------------------------------------------- \n",
            " [6 5 4 1 6]\n",
            "\n",
            "Inner product of vectors A and B \n",
            " -------------------------------------------------- \n",
            " 62 (sum of all pairwise elements)\n",
            "\n",
            "Outer product of vectors A and B \n",
            " -------------------------------------------------- \n",
            " [[ 6  5  4  1  6]\n",
            " [12 10  8  2 12]\n",
            " [18 15 12  3 18]\n",
            " [24 20 16  4 24]\n",
            " [30 25 20  5 30]]\n"
          ]
        }
      ]
    },
    {
      "cell_type": "code",
      "source": [
        "# np.transpose(A)\n",
        "\n",
        "\n",
        "\n",
        "A = ri(1,10,9).reshape(3,3)\n",
        "print(\"\\n3x3 Matrix of random single-digit numbers\\n\",\"-\"*50,\"\\n\",A)\n",
        "print(\"\\nMatrix transpose\\n\",\"-\"*50,\"\\n\",np.transpose(A))\n",
        "\n",
        "B = ri(1,10,6).reshape(3,2)\n",
        "print(\"\\n3x2 Matrix of random single-digit numbers\\n\",\"-\"*50,\"\\n\",B)\n",
        "print(\"\\n2x3 Matrix transpose\\n\",\"-\"*50,\"\\n\",np.transpose(B))\n",
        "print(\"\\nMatrix multiplication of B and B-transpose\\n\",\"-\"*50,\"\\n\",np.dot(B, np.transpose(B)))"
      ],
      "metadata": {
        "colab": {
          "base_uri": "https://localhost:8080/"
        },
        "id": "FiGr1BdzEBAj",
        "outputId": "0c92ae97-e559-4113-f5b7-561b738df6ec"
      },
      "execution_count": 123,
      "outputs": [
        {
          "output_type": "stream",
          "name": "stdout",
          "text": [
            "\n",
            "3x3 Matrix of random single-digit numbers\n",
            " -------------------------------------------------- \n",
            " [[5 8 2]\n",
            " [6 5 5]\n",
            " [3 9 7]]\n",
            "\n",
            "Matrix transpose\n",
            " -------------------------------------------------- \n",
            " [[5 6 3]\n",
            " [8 5 9]\n",
            " [2 5 7]]\n",
            "\n",
            "3x2 Matrix of random single-digit numbers\n",
            " -------------------------------------------------- \n",
            " [[2 8]\n",
            " [7 4]\n",
            " [5 3]]\n",
            "\n",
            "2x3 Matrix transpose\n",
            " -------------------------------------------------- \n",
            " [[2 7 5]\n",
            " [8 4 3]]\n",
            "\n",
            "Matrix multiplication of B and B-transpose\n",
            " -------------------------------------------------- \n",
            " [[68 46 34]\n",
            " [46 65 47]\n",
            " [34 47 34]]\n"
          ]
        }
      ]
    },
    {
      "cell_type": "code",
      "source": [
        "# np.trace(A) : 행렬의 대각선원소 합\n",
        "\n",
        "\n",
        "A = ri(1,10,16).reshape(4,4)\n",
        "print(\"\\n4x4 Matrix of random single-digit numbers\\n\",\"-\"*50,\"\\n\",A)\n",
        "print(\"\\nMatrix trace\\n\",\"-\"*50,\"\\n\",np.trace(A))\n",
        "print(\"\\nMatrix trace with ofset +1 (upper triangle)\\n\",\"-\"*50,\"\\n\",np.trace(A,offset=1))\n",
        "print(\"\\nMatrix trace with ofset -1 (lower triangle)\\n\",\"-\"*50,\"\\n\",np.trace(A,offset=-1))"
      ],
      "metadata": {
        "colab": {
          "base_uri": "https://localhost:8080/"
        },
        "id": "iNzp_HnYECqj",
        "outputId": "74fb1c2c-e4ee-4284-d8b5-9dd308b95766"
      },
      "execution_count": 75,
      "outputs": [
        {
          "output_type": "stream",
          "name": "stdout",
          "text": [
            "\n",
            "4x4 Matrix of random single-digit numbers\n",
            " -------------------------------------------------- \n",
            " [[6 7 9 3]\n",
            " [3 6 2 4]\n",
            " [1 6 3 4]\n",
            " [6 7 8 7]]\n",
            "\n",
            "Matrix trace\n",
            " -------------------------------------------------- \n",
            " 22\n",
            "\n",
            "Matrix trace with ofset +1 (upper triangle)\n",
            " -------------------------------------------------- \n",
            " 13\n",
            "\n",
            "Matrix trace with ofset -1 (lower triangle)\n",
            " -------------------------------------------------- \n",
            " 17\n"
          ]
        }
      ]
    },
    {
      "cell_type": "code",
      "source": [
        "# 행렬 A를 svd분해\n",
        "# u,s,v=np.linalg.svd(A,compute_uv=1,full_matrices=True)\n",
        "\n",
        "\n",
        "A = np.random.randint(1,10,9).reshape(3,3)\n",
        "print(\"Original matrix\\n\",A)\n",
        "print(\"\\n\")\n",
        "u,s,v=np.linalg.svd(A,compute_uv=1,full_matrices=True)\n",
        "print(\"u:\",u)\n",
        "print(\"\\n\")\n",
        "print(\"Singular values, s:\",s)\n",
        "print(\"\\n\")\n",
        "print(\"v:\",v)\n",
        "print(\"\\n\")\n",
        "print (\"Reconstruction of A, u*s*v\\n\",np.dot(u,np.dot(np.diag(s),v)))"
      ],
      "metadata": {
        "colab": {
          "base_uri": "https://localhost:8080/"
        },
        "id": "PRi9j5cgEELC",
        "outputId": "97deaef5-9a8a-45c8-f7d9-a125a36d787a"
      },
      "execution_count": 76,
      "outputs": [
        {
          "output_type": "stream",
          "name": "stdout",
          "text": [
            "Original matrix\n",
            " [[4 5 9]\n",
            " [6 8 2]\n",
            " [6 7 2]]\n",
            "\n",
            "\n",
            "u: [[-0.59153887  0.80613457 -0.01512681]\n",
            " [-0.59066913 -0.44604878 -0.67242135]\n",
            " [-0.54880939 -0.38882843  0.74001399]]\n",
            "\n",
            "\n",
            "Singular values, s: [16.59269064  6.28394653  0.4411726 ]\n",
            "\n",
            "\n",
            "v: [[-0.55464341 -0.69456566 -0.45820217]\n",
            " [-0.28401339 -0.35956963  0.88884536]\n",
            " [ 0.78211705 -0.62312778 -0.00216698]]\n",
            "\n",
            "\n",
            "Reconstruction of A, u*s*v\n",
            " [[4. 5. 9.]\n",
            " [6. 8. 2.]\n",
            " [6. 7. 2.]]\n"
          ]
        }
      ]
    },
    {
      "cell_type": "code",
      "source": [
        "# 행렬 A를 QR분해\n",
        "# q,r=np.linalg.qr(A)\n",
        "\n",
        "A = np.random.randint(1,10,9).reshape(3,3)\n",
        "print(\"Original matrix\\n\",A)\n",
        "print(\"\\n\")\n",
        "q,r=np.linalg.qr(A)\n",
        "print(\"Q:\",q)\n",
        "print(\"\\n\")\n",
        "print(\"R:\",r)\n",
        "print(\"\\n\")\n",
        "print (\"Reconstruction of A, Q*R\\n\",np.dot(q,r))"
      ],
      "metadata": {
        "colab": {
          "base_uri": "https://localhost:8080/"
        },
        "id": "KsTzmLE9EF7P",
        "outputId": "9a791b78-bdb4-4158-b99c-eb14a68e82b0"
      },
      "execution_count": 124,
      "outputs": [
        {
          "output_type": "stream",
          "name": "stdout",
          "text": [
            "Original matrix\n",
            " [[8 6 6]\n",
            " [1 5 8]\n",
            " [3 4 2]]\n",
            "\n",
            "\n",
            "Q: [[-0.92998111  0.23019525 -0.28660998]\n",
            " [-0.11624764 -0.92380989 -0.36477634]\n",
            " [-0.34874292 -0.30591737  0.8858854 ]]\n",
            "\n",
            "\n",
            "R: [[-8.60232527 -7.55609652 -7.2073536 ]\n",
            " [ 0.         -4.46154742 -6.62114234]\n",
            " [ 0.          0.         -2.86609982]]\n",
            "\n",
            "\n",
            "Reconstruction of A, Q*R\n",
            " [[8. 6. 6.]\n",
            " [1. 5. 8.]\n",
            " [3. 4. 2.]]\n"
          ]
        }
      ]
    },
    {
      "cell_type": "code",
      "source": [
        "# 행렬A의 Eigenvalue (w), Eigenvector (v) 찾기\n",
        "# w,v=np.linalg.eig(A)\n",
        "\n",
        "\n",
        "A = np.random.randn(9).reshape(3,3)\n",
        "print(\"Original matrix\\n\",A)\n",
        "print(\"\\n\")\n",
        "w,v=np.linalg.eig(A)\n",
        "print(\"Eigenvalues:\\n\",w)\n",
        "print(\"\\n\")\n",
        "print(\"Eigenvectors:\\n\",v)"
      ],
      "metadata": {
        "colab": {
          "base_uri": "https://localhost:8080/"
        },
        "id": "FvWr5joBEHTt",
        "outputId": "a7664625-6c24-4beb-d6c4-914ba4151136"
      },
      "execution_count": 125,
      "outputs": [
        {
          "output_type": "stream",
          "name": "stdout",
          "text": [
            "Original matrix\n",
            " [[-0.50219668 -1.44582313  2.35703105]\n",
            " [-1.36352335 -0.66080595  0.05832961]\n",
            " [-0.08590041 -0.6512298  -0.42592748]]\n",
            "\n",
            "\n",
            "Eigenvalues:\n",
            " [ 1.15927541+0.j        -1.37410276+0.6277104j -1.37410276-0.6277104j]\n",
            "\n",
            "\n",
            "Eigenvectors:\n",
            " [[-0.78764063+0.j          0.39852408-0.32641759j  0.39852408+0.32641759j]\n",
            " [ 0.58374738+0.j          0.7301326 +0.j          0.7301326 -0.j        ]\n",
            " [-0.19713252+0.j          0.38737833+0.22687999j  0.38737833-0.22687999j]]\n"
          ]
        }
      ]
    },
    {
      "cell_type": "markdown",
      "source": [
        "2x + 5y + z = 14;\n",
        "\n",
        "3x - 2y - z = -1;\n",
        "\n",
        "x - 3y + z = 4 일때"
      ],
      "metadata": {
        "id": "Uo2qXsfsRKRK"
      }
    },
    {
      "cell_type": "code",
      "source": [
        "# Augmented 행렬의 해\n",
        "\n",
        "A = np.array([[2,5,1],[3,-2,-1],[1,-3,1]])\n",
        "B = np.array([14,-1,4])\n",
        "x = np.linalg.solve(A,B)\n",
        "\n",
        "print(\"The solutions are:\",x)"
      ],
      "metadata": {
        "colab": {
          "base_uri": "https://localhost:8080/"
        },
        "id": "PlAfyEfWEJKz",
        "outputId": "73140297-1ccd-43f0-ab96-b9679fcb38e5"
      },
      "execution_count": 126,
      "outputs": [
        {
          "output_type": "stream",
          "name": "stdout",
          "text": [
            "The solutions are: [2. 1. 5.]\n"
          ]
        }
      ]
    },
    {
      "cell_type": "code",
      "source": [
        "# 랜덤행렬\n",
        "\n",
        "\n",
        "x = np.arange(1,11,1)\n",
        "y = 2*x+np.random.randn(10)-1\n",
        "print(x)\n",
        "print(y)"
      ],
      "metadata": {
        "colab": {
          "base_uri": "https://localhost:8080/"
        },
        "id": "UL2mjEfTEKUv",
        "outputId": "b5185694-c377-4476-e332-d0821a9e0994"
      },
      "execution_count": 90,
      "outputs": [
        {
          "output_type": "stream",
          "name": "stdout",
          "text": [
            "[ 1  2  3  4  5  6  7  8  9 10]\n",
            "[ 1.47221633  2.51628199  4.63306186  6.37378593  9.28805223 11.08680984\n",
            " 12.63190172 14.14732855 18.6152185  17.9716877 ]\n"
          ]
        }
      ]
    },
    {
      "cell_type": "code",
      "source": [
        "# 1. np.ones(len(x))\n",
        "# x의 길이만큼 1로 채워진 배열 생성\n",
        "# → [1. 1. 1. 1. 1. 1. 1. 1. 1. 1.]\n",
        "\n",
        "# 2. np.vstack([x, ...])\n",
        "# x와 1로 채워진 배열을 수직으로 쌓는다 (row 방향으로 쌓기)\n",
        "# [[ 1.  2.  3.  4.  5.  6.  7.  8.  9. 10.]\n",
        "#  [ 1.  1.  1.  1.  1.  1.  1.  1.  1.  1.]]\n",
        "\n",
        "# 3.\n",
        "# .T는 전치(transpose): 행과 열을 바꿈\n",
        "\n",
        "\n",
        "A = np.vstack([x, np.ones(len(x))]).T\n",
        "print(A)"
      ],
      "metadata": {
        "colab": {
          "base_uri": "https://localhost:8080/"
        },
        "id": "JKz7kl8BEL5O",
        "outputId": "1a180226-69fb-44c1-9972-69edde884191"
      },
      "execution_count": 91,
      "outputs": [
        {
          "output_type": "stream",
          "name": "stdout",
          "text": [
            "[[ 1.  1.]\n",
            " [ 2.  1.]\n",
            " [ 3.  1.]\n",
            " [ 4.  1.]\n",
            " [ 5.  1.]\n",
            " [ 6.  1.]\n",
            " [ 7.  1.]\n",
            " [ 8.  1.]\n",
            " [ 9.  1.]\n",
            " [10.  1.]]\n"
          ]
        }
      ]
    },
    {
      "cell_type": "code",
      "source": [
        "m, c = np.linalg.lstsq(A, y)[0]\n",
        "# lstsq는 최소제곱법(Least Squares Method) 으로 선형 방정식의 해를 구해.\n",
        "\n",
        "# 여기서 A는 입력행렬 (x값과 절편항 1로 구성), y는 목표값(정답)\n",
        "\n",
        "# 결과는 [기울기 m, 절편 c]\n",
        "\n",
        "\n",
        "print (\"Coefficient:\"+str(m)+ \"\\n\"+\"intercept:\"+str(c))\n",
        "# 위에서 구한 m, c를 출력\n",
        "# 👉 m: 기울기, c: y절편\n",
        "\n",
        "\n",
        "# Plot the fitteed line\n",
        "import matplotlib.pyplot as plt\n",
        "%matplotlib inline\n",
        "# %matplotlib inline: 주피터 노트북에서 그래프를 바로 보이게 하는 매직 명령어\n",
        "# 👉 만약 파이썬 스크립트(.py)로 실행한다면 이 줄은 필요 없음!\n",
        "\n",
        "\n",
        "plt.plot(x, y, 'o', label='Original data', markersize=10)\n",
        "plt.plot(x, m*x + c, 'r', label='Fitted line')\n",
        "plt.legend()\n",
        "plt.show()"
      ],
      "metadata": {
        "colab": {
          "base_uri": "https://localhost:8080/",
          "height": 466
        },
        "id": "2qtM5_xjENfd",
        "outputId": "9e2253a7-365e-485e-8689-8b04b2470474"
      },
      "execution_count": 92,
      "outputs": [
        {
          "output_type": "stream",
          "name": "stdout",
          "text": [
            "Coefficient:1.9959529473470001\n",
            "intercept:-1.1041067427175788\n"
          ]
        },
        {
          "output_type": "display_data",
          "data": {
            "text/plain": [
              "<Figure size 640x480 with 1 Axes>"
            ],
            "image/png": "[encoded data removed]"
          },
          "metadata": {}
        }
      ]
    },
    {
      "cell_type": "code",
      "source": [
        "# np.linalg.inv(A)\n",
        "# 역행렬\n",
        "\n",
        "\n",
        "A = 0.1*np.random.randint(1,20,16).reshape(4,4)\n",
        "print (\"A:\\n\",A)\n",
        "print (\"Inverse of A:\\n\",np.linalg.inv(A))"
      ],
      "metadata": {
        "colab": {
          "base_uri": "https://localhost:8080/"
        },
        "id": "0qgnhlcZEPh3",
        "outputId": "9c1477eb-f8a6-4034-ef7e-1f29cb04e5fa"
      },
      "execution_count": 93,
      "outputs": [
        {
          "output_type": "stream",
          "name": "stdout",
          "text": [
            "A:\n",
            " [[1.5 1.1 1.5 1.9]\n",
            " [0.8 0.4 1.  0.4]\n",
            " [1.1 0.9 1.  1.6]\n",
            " [1.4 0.1 1.2 1.2]]\n",
            "Inverse of A:\n",
            " [[-2.44311377e+01  9.28143713e+00  2.55688623e+01  1.49700599e+00]\n",
            " [-9.34131737e+00  4.43113772e+00  1.06586826e+01 -8.98203593e-01]\n",
            " [ 1.92814371e+01 -6.19760479e+00 -2.07185629e+01 -8.38323353e-01]\n",
            " [ 1.00000000e+01 -5.00000000e+00 -1.00000000e+01  1.52655666e-15]]\n"
          ]
        }
      ]
    },
    {
      "cell_type": "code",
      "source": [
        "np.linalg.pinv(A)\n",
        "# np.linalg.pinv(A)는 **A의 의사역행렬(Moore-Penrose pseudo-inverse)**을 구함\n",
        "\n",
        "# 📌 의사역행렬의 핵심 개념\n",
        "# 의사역행렬은 선형방정식을 최소제곱 해법으로 푸는 데 사용돼.\n",
        "# 즉, 일반적인 역행렬이 존재하지 않는 경우에도 대체해서 쓸 수 있어.\n",
        "\n",
        "# 정방행렬이면?\n",
        "# pinv(A) ≈ inv(A)\n",
        "\n",
        "# 비정방행렬이면?\n",
        "# A가 (m×n) 행렬일 때,\n",
        "\n",
        "# A⁺ = (AᵗA)⁻¹Aᵗ (if m ≥ n and full rank)\n",
        "\n",
        "# 또는 A⁺ = Aᵗ(AAᵗ)⁻¹ (if n > m and full rank)\n",
        "\n",
        "\n",
        "A = 0.1*np.random.randint(1,20,15).reshape(5,3)\n",
        "print (\"A:\\n\",A)\n",
        "print (\"Pseudo-inverse of A:\\n\",np.linalg.pinv(A))\n",
        "print (\"Matrix product of A and pseudo inverse:\\n\", np.dot(np.linalg.pinv(A),A))"
      ],
      "metadata": {
        "colab": {
          "base_uri": "https://localhost:8080/"
        },
        "id": "UdGtO2OlERAs",
        "outputId": "d8c2007c-263d-4fcc-8e3f-16fbb5b81461"
      },
      "execution_count": 94,
      "outputs": [
        {
          "output_type": "stream",
          "name": "stdout",
          "text": [
            "A:\n",
            " [[1.4 1.2 0.3]\n",
            " [1.6 1.5 0.7]\n",
            " [1.7 1.5 0.2]\n",
            " [0.9 1.5 0.9]\n",
            " [1.2 0.9 1.7]]\n",
            "Pseudo-inverse of A:\n",
            " [[ 0.39217617  0.17541484  0.41463927 -1.15726632  0.42245211]\n",
            " [-0.17000109  0.01177766 -0.09345104  1.26423436 -0.63315574]\n",
            " [-0.17932599 -0.04253973 -0.30840359  0.13218379  0.60370054]]\n",
            "Matrix product of A and pseudo inverse:\n",
            " [[ 1.00000000e+00  2.36976041e-16 -1.85859841e-16]\n",
            " [-2.23493355e-16  1.00000000e+00  3.31618157e-16]\n",
            " [-1.59214768e-16  3.56093053e-17  1.00000000e+00]]\n"
          ]
        }
      ]
    }
  ]
}